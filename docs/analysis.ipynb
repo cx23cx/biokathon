{
 "cells": [
  {
   "cell_type": "code",
   "execution_count": 1,
   "id": "55441955-cf5c-40ac-8022-77e1e77d0b5d",
   "metadata": {},
   "outputs": [],
   "source": [
    "import pandas as pd\n",
    "import matplotlib.pyplot as plt"
   ]
  },
  {
   "cell_type": "markdown",
   "id": "2c52462b-83d7-442d-8405-fbcb713c4674",
   "metadata": {},
   "source": [
    "# Load Data"
   ]
  },
  {
   "cell_type": "code",
   "execution_count": 2,
   "id": "54dc79ec-a92e-4d5e-853e-3d2b22468c2a",
   "metadata": {},
   "outputs": [],
   "source": [
    "verbatim_path = r'0018985-250310093411724/verbatim.txt'\n",
    "occurrence_path = r'0018985-250310093411724/occurrence.txt'"
   ]
  },
  {
   "cell_type": "code",
   "execution_count": 3,
   "id": "38f42752-c610-4f7b-9bdc-8fa96bca6501",
   "metadata": {},
   "outputs": [],
   "source": [
    "with open(verbatim_path, 'r', encoding='utf-8') as f:\n",
    "    lines = [line.rstrip('\\n').split('\\t') for line in f.readlines()]\n",
    "    verbatim = pd.DataFrame(lines[1:], columns=lines[0])\n",
    "    verbatim.shape"
   ]
  },
  {
   "cell_type": "markdown",
   "id": "5a3a76a0-bc15-4d5d-b19d-e750ee7d1957",
   "metadata": {},
   "source": [
    "# Analyse Data"
   ]
  },
  {
   "cell_type": "code",
   "execution_count": 4,
   "id": "d889207e-4fb2-4d49-9d1e-992245cfc052",
   "metadata": {},
   "outputs": [],
   "source": [
    "# verbatim.columns.tolist()"
   ]
  },
  {
   "cell_type": "code",
   "execution_count": 5,
   "id": "ad254525-da7a-41de-8e91-71986c2cb5ba",
   "metadata": {},
   "outputs": [
    {
     "data": {
      "text/plain": [
       "array(['1987-12-21', '', '2011-02-20', ..., '08.04.1846', '10.1878',\n",
       "       '1858/1862'], shape=(336666,), dtype=object)"
      ]
     },
     "execution_count": 5,
     "metadata": {},
     "output_type": "execute_result"
    }
   ],
   "source": [
    "verbatim['eventDate'].unique()"
   ]
  },
  {
   "cell_type": "code",
   "execution_count": 6,
   "id": "b7b83f9f-6da5-4ec9-b38f-6c7aa47eff44",
   "metadata": {},
   "outputs": [
    {
     "data": {
      "text/plain": [
       "(443659, 190)"
      ]
     },
     "execution_count": 6,
     "metadata": {},
     "output_type": "execute_result"
    }
   ],
   "source": [
    "filtered = verbatim[verbatim['eventDate'] != ''].copy()\n",
    "filtered.shape"
   ]
  },
  {
   "cell_type": "code",
   "execution_count": 7,
   "id": "38c17059-fcbb-47e0-a40e-478e90ab4052",
   "metadata": {},
   "outputs": [
    {
     "data": {
      "text/html": [
       "<div>\n",
       "<style scoped>\n",
       "    .dataframe tbody tr th:only-of-type {\n",
       "        vertical-align: middle;\n",
       "    }\n",
       "\n",
       "    .dataframe tbody tr th {\n",
       "        vertical-align: top;\n",
       "    }\n",
       "\n",
       "    .dataframe thead th {\n",
       "        text-align: right;\n",
       "    }\n",
       "</style>\n",
       "<table border=\"1\" class=\"dataframe\">\n",
       "  <thead>\n",
       "    <tr style=\"text-align: right;\">\n",
       "      <th></th>\n",
       "      <th>kingdom</th>\n",
       "      <th>phylum</th>\n",
       "      <th>class</th>\n",
       "      <th>order</th>\n",
       "      <th>family</th>\n",
       "      <th>genus</th>\n",
       "      <th>scientificName</th>\n",
       "      <th>countryCode</th>\n",
       "      <th>occurrenceStatus</th>\n",
       "      <th>decimalLatitude</th>\n",
       "      <th>decimalLongitude</th>\n",
       "      <th>individualCount</th>\n",
       "      <th>eventDate</th>\n",
       "    </tr>\n",
       "  </thead>\n",
       "  <tbody>\n",
       "    <tr>\n",
       "      <th>0</th>\n",
       "      <td>Animalia</td>\n",
       "      <td>Arthropoda</td>\n",
       "      <td>Malacostraca</td>\n",
       "      <td>Decapoda</td>\n",
       "      <td>Leucosiidae</td>\n",
       "      <td>Pseudophilyra</td>\n",
       "      <td>Pseudophilyra punctulata Chen &amp; Ng 2003</td>\n",
       "      <td></td>\n",
       "      <td></td>\n",
       "      <td></td>\n",
       "      <td></td>\n",
       "      <td>1</td>\n",
       "      <td>1987-12-21</td>\n",
       "    </tr>\n",
       "    <tr>\n",
       "      <th>3</th>\n",
       "      <td>Animalia</td>\n",
       "      <td>Arthropoda</td>\n",
       "      <td>Insecta</td>\n",
       "      <td>Orthoptera</td>\n",
       "      <td>Haglotettigoniidae</td>\n",
       "      <td>Endodrelanva</td>\n",
       "      <td>Endodrelanva jimini Tan et Kamaruddin</td>\n",
       "      <td></td>\n",
       "      <td></td>\n",
       "      <td></td>\n",
       "      <td></td>\n",
       "      <td>1</td>\n",
       "      <td>2011-02-20</td>\n",
       "    </tr>\n",
       "    <tr>\n",
       "      <th>5</th>\n",
       "      <td>Animalia</td>\n",
       "      <td>Arthropoda</td>\n",
       "      <td>Insecta</td>\n",
       "      <td>Orthoptera</td>\n",
       "      <td>Haglotettigoniidae</td>\n",
       "      <td>Odontogryllodes</td>\n",
       "      <td>Odontogryllodes latus Chopard 1969</td>\n",
       "      <td></td>\n",
       "      <td></td>\n",
       "      <td>1.412564</td>\n",
       "      <td>103.796</td>\n",
       "      <td>1</td>\n",
       "      <td>2016-01-11</td>\n",
       "    </tr>\n",
       "    <tr>\n",
       "      <th>7</th>\n",
       "      <td>Animalia</td>\n",
       "      <td>Arthropoda</td>\n",
       "      <td>Insecta</td>\n",
       "      <td>Orthoptera</td>\n",
       "      <td>Haglotettigoniidae</td>\n",
       "      <td>Duolandrevus</td>\n",
       "      <td>Duolandrevus (Bejorama) parvulus Gorochov 2016</td>\n",
       "      <td></td>\n",
       "      <td></td>\n",
       "      <td></td>\n",
       "      <td></td>\n",
       "      <td>1</td>\n",
       "      <td>2013-09-07</td>\n",
       "    </tr>\n",
       "    <tr>\n",
       "      <th>9</th>\n",
       "      <td>Animalia</td>\n",
       "      <td>Arthropoda</td>\n",
       "      <td>Insecta</td>\n",
       "      <td>Orthoptera</td>\n",
       "      <td>Haglotettigoniidae</td>\n",
       "      <td>Odontogryllodes</td>\n",
       "      <td>Odontogryllodes latus Chopard 1969</td>\n",
       "      <td></td>\n",
       "      <td></td>\n",
       "      <td></td>\n",
       "      <td></td>\n",
       "      <td>1</td>\n",
       "      <td>2011-03-12</td>\n",
       "    </tr>\n",
       "    <tr>\n",
       "      <th>...</th>\n",
       "      <td>...</td>\n",
       "      <td>...</td>\n",
       "      <td>...</td>\n",
       "      <td>...</td>\n",
       "      <td>...</td>\n",
       "      <td>...</td>\n",
       "      <td>...</td>\n",
       "      <td>...</td>\n",
       "      <td>...</td>\n",
       "      <td>...</td>\n",
       "      <td>...</td>\n",
       "      <td>...</td>\n",
       "      <td>...</td>\n",
       "    </tr>\n",
       "    <tr>\n",
       "      <th>1689337</th>\n",
       "      <td></td>\n",
       "      <td></td>\n",
       "      <td></td>\n",
       "      <td></td>\n",
       "      <td>Portunidae</td>\n",
       "      <td></td>\n",
       "      <td>Scylla serrata (Forskål 1775)</td>\n",
       "      <td></td>\n",
       "      <td></td>\n",
       "      <td></td>\n",
       "      <td></td>\n",
       "      <td></td>\n",
       "      <td>1876</td>\n",
       "    </tr>\n",
       "    <tr>\n",
       "      <th>1689340</th>\n",
       "      <td></td>\n",
       "      <td></td>\n",
       "      <td></td>\n",
       "      <td></td>\n",
       "      <td>Eriphiidae</td>\n",
       "      <td></td>\n",
       "      <td>Eriphia smithii MacLeay 1838</td>\n",
       "      <td></td>\n",
       "      <td></td>\n",
       "      <td></td>\n",
       "      <td></td>\n",
       "      <td></td>\n",
       "      <td>1858</td>\n",
       "    </tr>\n",
       "    <tr>\n",
       "      <th>1689341</th>\n",
       "      <td></td>\n",
       "      <td></td>\n",
       "      <td></td>\n",
       "      <td></td>\n",
       "      <td>Xanthidae</td>\n",
       "      <td></td>\n",
       "      <td>Etisus utilis Jacquinot, in Jacquinot &amp; Lucas ...</td>\n",
       "      <td></td>\n",
       "      <td></td>\n",
       "      <td></td>\n",
       "      <td></td>\n",
       "      <td></td>\n",
       "      <td>1858/1862</td>\n",
       "    </tr>\n",
       "    <tr>\n",
       "      <th>1689342</th>\n",
       "      <td>Animalia</td>\n",
       "      <td>Arthropoda</td>\n",
       "      <td>Insecta</td>\n",
       "      <td>Odonata</td>\n",
       "      <td>Libellulidae</td>\n",
       "      <td>Nannophya</td>\n",
       "      <td>Nannophya koreana Bae, Yum, Kim, Suh, and Kang...</td>\n",
       "      <td></td>\n",
       "      <td></td>\n",
       "      <td></td>\n",
       "      <td></td>\n",
       "      <td>1</td>\n",
       "      <td>2009-07-14</td>\n",
       "    </tr>\n",
       "    <tr>\n",
       "      <th>1689343</th>\n",
       "      <td>Animalia</td>\n",
       "      <td>Arthropoda</td>\n",
       "      <td>Insecta</td>\n",
       "      <td>Odonata</td>\n",
       "      <td>Libellulidae</td>\n",
       "      <td>Nannophya</td>\n",
       "      <td>Nannophya koreana Bae, Yum, Kim, Suh, and Kang...</td>\n",
       "      <td></td>\n",
       "      <td></td>\n",
       "      <td></td>\n",
       "      <td></td>\n",
       "      <td>2</td>\n",
       "      <td>2009-07-14</td>\n",
       "    </tr>\n",
       "  </tbody>\n",
       "</table>\n",
       "<p>443659 rows × 13 columns</p>\n",
       "</div>"
      ],
      "text/plain": [
       "          kingdom      phylum         class       order              family  \\\n",
       "0        Animalia  Arthropoda  Malacostraca    Decapoda         Leucosiidae   \n",
       "3        Animalia  Arthropoda       Insecta  Orthoptera  Haglotettigoniidae   \n",
       "5        Animalia  Arthropoda       Insecta  Orthoptera  Haglotettigoniidae   \n",
       "7        Animalia  Arthropoda       Insecta  Orthoptera  Haglotettigoniidae   \n",
       "9        Animalia  Arthropoda       Insecta  Orthoptera  Haglotettigoniidae   \n",
       "...           ...         ...           ...         ...                 ...   \n",
       "1689337                                                          Portunidae   \n",
       "1689340                                                          Eriphiidae   \n",
       "1689341                                                           Xanthidae   \n",
       "1689342  Animalia  Arthropoda       Insecta     Odonata        Libellulidae   \n",
       "1689343  Animalia  Arthropoda       Insecta     Odonata        Libellulidae   \n",
       "\n",
       "                   genus                                     scientificName  \\\n",
       "0          Pseudophilyra            Pseudophilyra punctulata Chen & Ng 2003   \n",
       "3           Endodrelanva              Endodrelanva jimini Tan et Kamaruddin   \n",
       "5        Odontogryllodes                 Odontogryllodes latus Chopard 1969   \n",
       "7           Duolandrevus     Duolandrevus (Bejorama) parvulus Gorochov 2016   \n",
       "9        Odontogryllodes                 Odontogryllodes latus Chopard 1969   \n",
       "...                  ...                                                ...   \n",
       "1689337                                       Scylla serrata (Forskål 1775)   \n",
       "1689340                                        Eriphia smithii MacLeay 1838   \n",
       "1689341                   Etisus utilis Jacquinot, in Jacquinot & Lucas ...   \n",
       "1689342        Nannophya  Nannophya koreana Bae, Yum, Kim, Suh, and Kang...   \n",
       "1689343        Nannophya  Nannophya koreana Bae, Yum, Kim, Suh, and Kang...   \n",
       "\n",
       "        countryCode occurrenceStatus decimalLatitude decimalLongitude  \\\n",
       "0                                                                       \n",
       "3                                                                       \n",
       "5                                           1.412564          103.796   \n",
       "7                                                                       \n",
       "9                                                                       \n",
       "...             ...              ...             ...              ...   \n",
       "1689337                                                                 \n",
       "1689340                                                                 \n",
       "1689341                                                                 \n",
       "1689342                                                                 \n",
       "1689343                                                                 \n",
       "\n",
       "        individualCount   eventDate  \n",
       "0                     1  1987-12-21  \n",
       "3                     1  2011-02-20  \n",
       "5                     1  2016-01-11  \n",
       "7                     1  2013-09-07  \n",
       "9                     1  2011-03-12  \n",
       "...                 ...         ...  \n",
       "1689337                        1876  \n",
       "1689340                        1858  \n",
       "1689341                   1858/1862  \n",
       "1689342               1  2009-07-14  \n",
       "1689343               2  2009-07-14  \n",
       "\n",
       "[443659 rows x 13 columns]"
      ]
     },
     "execution_count": 7,
     "metadata": {},
     "output_type": "execute_result"
    }
   ],
   "source": [
    "data = filtered[[\n",
    "    'kingdom',\n",
    "    'phylum',\n",
    "    'class',\n",
    "    'order',\n",
    "    'family',\n",
    "    'genus',\n",
    "    'scientificName',\n",
    "    'countryCode',\n",
    "    'occurrenceStatus',\n",
    "    'decimalLatitude',\n",
    "    'decimalLongitude',\n",
    "    'individualCount',\n",
    "    'eventDate',\n",
    "]].copy()\n",
    "data"
   ]
  },
  {
   "cell_type": "markdown",
   "id": "6225246d-1e81-4688-aa22-2334bc90e835",
   "metadata": {},
   "source": [
    "# Clean Data"
   ]
  },
  {
   "cell_type": "code",
   "execution_count": 8,
   "id": "13724316-62da-492f-8de9-48efde53e0a0",
   "metadata": {},
   "outputs": [
    {
     "data": {
      "text/plain": [
       "(63119, 15)"
      ]
     },
     "execution_count": 8,
     "metadata": {},
     "output_type": "execute_result"
    }
   ],
   "source": [
    "data['eventDateISO'] = pd.to_datetime(data['eventDate'], errors='coerce')\n",
    "cleaned = data.dropna(subset=['eventDateISO']).copy()\n",
    "cleaned['year'] = data['eventDateISO'].dt.year.astype('Int64')\n",
    "cleaned['individualCount'] = pd.to_numeric(data['individualCount'], errors='coerce').fillna(0).astype('Int64')\n",
    "cleaned.shape"
   ]
  },
  {
   "cell_type": "code",
   "execution_count": 9,
   "id": "5bce9417-ff4b-4177-a910-99bfc2ba1f92",
   "metadata": {},
   "outputs": [],
   "source": [
    "cleaned.to_csv('SG-Occurrence-Cleaned.csv')"
   ]
  },
  {
   "cell_type": "markdown",
   "id": "0cbc0ec8-f1f6-4115-a2e9-223b526e3322",
   "metadata": {},
   "source": [
    "# Plot Occurence Trend"
   ]
  },
  {
   "cell_type": "code",
   "execution_count": 10,
   "id": "5380a6a0-07fa-43a5-90a3-5ded4098bbc9",
   "metadata": {},
   "outputs": [
    {
     "data": {
      "text/plain": [
       "year\n",
       "1702       1\n",
       "1828       1\n",
       "1830       1\n",
       "1845       1\n",
       "1847       1\n",
       "        ... \n",
       "2021    5730\n",
       "2022    5503\n",
       "2023    4616\n",
       "2024    5161\n",
       "2025     928\n",
       "Length: 169, dtype: int64"
      ]
     },
     "execution_count": 10,
     "metadata": {},
     "output_type": "execute_result"
    }
   ],
   "source": [
    "data = cleaned.groupby('year').size()\n",
    "data"
   ]
  },
  {
   "cell_type": "code",
   "execution_count": 11,
   "id": "6c82ed24-05e5-4cf9-9e5b-d282f87f177f",
   "metadata": {},
   "outputs": [
    {
     "data": {
      "image/png": "[encoded data removed]",
      "text/plain": [
       "<Figure size 640x480 with 1 Axes>"
      ]
     },
     "metadata": {},
     "output_type": "display_data"
    }
   ],
   "source": [
    "data.plot(x='year2', kind='line')\n",
    "plt.title('Count by Year')\n",
    "plt.xlabel('Year')\n",
    "plt.ylabel('Count')\n",
    "plt.grid(True)\n",
    "plt.show()"
   ]
  },
  {
   "cell_type": "code",
   "execution_count": null,
   "id": "ee333084-2e8c-401b-8edf-bb139faaddbb",
   "metadata": {},
   "outputs": [],
   "source": []
  }
 ],
 "metadata": {
  "kernelspec": {
   "display_name": "Python 3 (ipykernel)",
   "language": "python",
   "name": "python3"
  },
  "language_info": {
   "codemirror_mode": {
    "name": "ipython",
    "version": 3
   },
   "file_extension": ".py",
   "mimetype": "text/x-python",
   "name": "python",
   "nbconvert_exporter": "python",
   "pygments_lexer": "ipython3",
   "version": "3.11.9"
  }
 },
 "nbformat": 4,
 "nbformat_minor": 5
}
